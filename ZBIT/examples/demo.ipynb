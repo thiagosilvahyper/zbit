{
 "cells": [
  {
   "cell_type": "markdown",
   "metadata": {},
   "source": [
    "# ZBIT-CORE-v2 Demo\n",
    "> 50 qubits | HOTRG | 100x speedup"
   ]
  },
  {
   "cell_type": "code",
   "execution_count": null,
   "metadata": {},
   "outputs": [],
   "source": [
    "from zbit_core_v2 import ZBITQuantumCoreV2\n",
    "core = ZBITQuantumCoreV2(n_qubits=50)\n",
    "report = core.run_validation_suite()\n",
    "print(report)"
   ]
  }
 ],
 "metadata": {
  "kernelspec": {
   "display_name": "Python 3",
   "language": "python",
   "name": "python3"
  }
 },
 "nbformat": 4,
 "nbformat_minor": 2
}